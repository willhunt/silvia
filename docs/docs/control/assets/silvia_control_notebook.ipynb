{
 "cells": [
  {
   "cell_type": "markdown",
   "metadata": {},
   "source": [
    "# Silvia Control\n",
    "Evaluation od espresso machine control theory based upon [Control Bootcamp](https://www.youtube.com/playlist?list=PLMrJAkhIeNNR20Mz-VpzgfQs5zrYi085m) by Steve Brunton."
   ]
  },
  {
   "cell_type": "markdown",
   "metadata": {},
   "source": [
    "## Boundary DIagram\n",
    "<img src=\"boiler_boundary_diagram.png\" width=\"400\" />\n"
   ]
  },
  {
   "cell_type": "markdown",
   "metadata": {},
   "source": [
    "## System Dynamics\n",
    "\n",
    "### Differential equations\n",
    "The change of internal energy $\\frac{dU}{dt}$ of an incompresssible substance is as follows where $c$ is the specific heat.\n",
    "\n",
    "$$ \\frac{dU}{dt} = m . c $$\n",
    "\n",
    "Heat transfer $Q$ is:\n",
    "\n",
    "$$ Q = \\int_{0}^{\\Delta{}T} \\dot{Q} dt $$\n",
    "\n",
    "The heat rate required to increase the boiler temperture is:  \n",
    "\n",
    "$$ \\dot{Q}_{net} = c . m . \\frac{dT_{boiler}}{dt} $$\n",
    "\n",
    "The convection loss, $\\dot{Q}_{conv}$  is:\n",
    "\n",
    "$$ \\dot{Q}_{conv} = h_{conv} . A . (T_{amb} - T_{boiler}) $$\n",
    "\n",
    "The net heat input to the boiler, $\\dot{Q}_{net}$ is:\n",
    "\n",
    "$$ \\dot{Q}_{net} = \\dot{Q}_{heat} - \\dot{Q}_{conv} $$ \n",
    "\n",
    "So differetial temperature equation is:\n",
    "$$ \\frac{dT_{boiler}}{dt} = \\frac{u}{cm} - \\frac{hA}{cm}(T_{amb} - T_{boiler}) $$\n",
    "\n",
    "### Finite time equations\n",
    "\n",
    "The heat required to increase the boiler temperture is:  \n",
    "\n",
    "$$ Q_{net} = c . m . (T_{boiler}^{(1)} - T_{boiler}^{(0)}) . \\Delta{}t $$\n",
    "\n",
    "The temperture of the boiler, $T_{boiler}$ after heating is therefore:\n",
    "$$ T_{boiler}^{(1)} = \\frac{ (\\dot{Q}_{heat} - \\dot{Q}_{conv}) . \\Delta{}t }{ c . m } + T_{boiler}^{(0)} $$\n",
    "\n",
    "$$ \\Delta{}T_{boiler} = \\frac{ (\\dot{Q}_{heat} - h_{conv} . A . (T_{amb} - T_{boiler})) . \\Delta{}t }{ c . m } $$\n",
    "\n",
    "### Notes\n",
    "The heat input $\\dot{Q}_{heat}$ to the system equals the electrical power $P_{heat}$ of the element:  \n",
    "$$ \\dot{Q}_{heat} = P_{heat} $$"
   ]
  },
  {
   "cell_type": "markdown",
   "metadata": {},
   "source": [
    "### State\n",
    "$$ \\vec{x} = \\begin{bmatrix} x_0 \\end{bmatrix} = \\begin{bmatrix} T \\end{bmatrix} $$"
   ]
  },
  {
   "cell_type": "markdown",
   "metadata": {},
   "source": [
    "### Control\n",
    "Looking at the equations  on the form:\n",
    "$$ \\dot{x} = Ax + Bu + C $$\n",
    "\n",
    "The A matrix defines the system:\n",
    "$$ A = \\begin{bmatrix} \\frac{hA}{cm} \\end{bmatrix} $$\n",
    "\n",
    "The B matrix is the control:\n",
    "$$ B = \\begin{bmatrix} \\frac{1}{cm} \\end{bmatrix} $$\n",
    "\n",
    "$$ \\dot{x} = \\dot{T} = \\frac{hA}{cm}T + \\frac{1}{cm}u - \\frac{hA}{cm}T_{amb}$$"
   ]
  },
  {
   "cell_type": "markdown",
   "metadata": {},
   "source": [
    "## System Properties\n",
    "\n",
    "|Property |Quantity |Reference |\n",
    "|:-        |:-        |:-         |\n",
    "|Boiler Mass |- $kg$ |\n",
    "|Boiler Specific Heat Capacity |375 $\\frac{J}{kg.K}$ |[Engineering Toolbox](https://www.engineeringtoolbox.com/specific-heat-capacity-d_391.html) |\n",
    "|Water Mass |- $kg$ |\n",
    "|Water Specific Heat Capacity |4182 $\\frac{J}{kg.K}$ |[Engineering Toolbox](https://www.engineeringtoolbox.com/specific-heat-capacity-d_391.html) |\n",
    "| Natural Convection Coefficient | 10 $\\frac{W}{m^2.K}$ |"
   ]
  },
  {
   "cell_type": "code",
   "execution_count": 1,
   "metadata": {},
   "outputs": [],
   "source": [
    "import sympy as sp\n",
    "from sympy.utilities.lambdify import lambdify\n",
    "import numpy as np\n",
    "import matplotlib.pyplot as plt\n",
    "from control.matlab import *\n",
    "from control import place\n",
    "import slycot\n",
    "from scipy import integrate\n",
    "\n",
    "# State\n",
    "T, dT = sp.symbols(\"T \\dot{T}\")\n",
    "# Properties\n",
    "m, c, h, T_amb, A = sp.symbols(\"m, c, h, T_amb, A\")\n",
    "# Control\n",
    "u = sp.symbols(\"u\")"
   ]
  },
  {
   "cell_type": "markdown",
   "metadata": {},
   "source": [
    "Define function for the temperature rate"
   ]
  },
  {
   "cell_type": "code",
   "execution_count": 2,
   "metadata": {},
   "outputs": [],
   "source": [
    "x = sp.Matrix([T])\n",
    "u = sp.Matrix([u])\n",
    "A = sp.Matrix([h * A / (c * m)])\n",
    "B = sp.Matrix([1 / (c * m)])\n",
    "C = sp.Matrix([h * A * T_amb / (c * m)])"
   ]
  },
  {
   "cell_type": "code",
   "execution_count": 3,
   "metadata": {},
   "outputs": [
    {
     "data": {
      "text/latex": [
       "$\\displaystyle \\dot{T} = \\left[\\begin{matrix}\\frac{A T h}{c m} + \\frac{A T_{amb} h^{2}}{c^{2} m^{2}} + \\frac{u}{c m}\\end{matrix}\\right]$"
      ],
      "text/plain": [
       "Eq(\\dot{T}, Matrix([[A*T*h/(c*m) + A*T_amb*h**2/(c**2*m**2) + u/(c*m)]]))"
      ]
     },
     "execution_count": 3,
     "metadata": {},
     "output_type": "execute_result"
    }
   ],
   "source": [
    "sp.Eq(dT, A*x + B*u + C, evaluate=False)"
   ]
  },
  {
   "cell_type": "code",
   "execution_count": 4,
   "metadata": {},
   "outputs": [
    {
     "data": {
      "text/latex": [
       "$\\displaystyle \\left[\\begin{matrix}\\frac{A T h}{c m} + \\frac{A T_{amb} h^{2}}{c^{2} m^{2}} + \\frac{u}{c m}\\end{matrix}\\right]$"
      ],
      "text/plain": [
       "Matrix([[A*T*h/(c*m) + A*T_amb*h**2/(c**2*m**2) + u/(c*m)]])"
      ]
     },
     "execution_count": 4,
     "metadata": {},
     "output_type": "execute_result"
    }
   ],
   "source": [
    "T_rate = A*x + B*u + C\n",
    "T_rate"
   ]
  },
  {
   "cell_type": "code",
   "execution_count": 16,
   "metadata": {},
   "outputs": [
    {
     "data": {
      "text/latex": [
       "$\\displaystyle \\left[\\begin{matrix}0.000888888888888889\\end{matrix}\\right]$"
      ],
      "text/plain": [
       "Matrix([[0.000888888888888889]])"
      ]
     },
     "execution_count": 16,
     "metadata": {},
     "output_type": "execute_result"
    }
   ],
   "source": [
    "properties = {\n",
    "    'm': 3,\n",
    "    'c': 375,\n",
    "    'h': 10,\n",
    "    'T_amb': 20,\n",
    "    'A': 0.1\n",
    "}\n",
    "A.subs(properties)\n",
    "\n"
   ]
  },
  {
   "cell_type": "code",
   "execution_count": 17,
   "metadata": {},
   "outputs": [
    {
     "data": {
      "text/plain": [
       "matrix([[32.63858404]])"
      ]
     },
     "execution_count": 17,
     "metadata": {},
     "output_type": "execute_result"
    }
   ],
   "source": [
    "## Design LQR Controller\n",
    "Q = np.eye(1)\n",
    "R = 0.001\n",
    "\n",
    "# Redefine A & B in numpy\n",
    "A_np = np.array([A.subs(properties)])\n",
    "B_np = np.array([B.subs(properties)])\n",
    "\n",
    "K = lqr(A_np, B_np, Q, R)[0]\n",
    "K"
   ]
  },
  {
   "cell_type": "code",
   "execution_count": 18,
   "metadata": {},
   "outputs": [],
   "source": [
    "def heatMass(t, x, properties, uf):\n",
    "    dx = np.empty([1])\n",
    "    h = properties['h']\n",
    "    A = properties['A']\n",
    "    T_amb = properties['T_amb']\n",
    "    m= properties['m']\n",
    "    c = properties['c']\n",
    "    u = uf(x)\n",
    "    dx[0] = (u - h * A * (T_amb - x)) / (c * m)\n",
    "    t_log.append(t)\n",
    "    u_log.append(u.item(0))\n",
    "    return dx\n",
    "    "
   ]
  },
  {
   "cell_type": "code",
   "execution_count": 22,
   "metadata": {},
   "outputs": [
    {
     "data": {
      "text/plain": [
       "  message: 'The solver successfully reached the end of the integration interval.'\n",
       "     nfev: 122\n",
       "     njev: 0\n",
       "      nlu: 0\n",
       "      sol: None\n",
       "   status: 0\n",
       "  success: True\n",
       "        t: array([  0,   1,   2,   3,   4,   5,   6,   7,   8,   9,  10,  11,  12,\n",
       "        13,  14,  15,  16,  17,  18,  19,  20,  21,  22,  23,  24,  25,\n",
       "        26,  27,  28,  29,  30,  31,  32,  33,  34,  35,  36,  37,  38,\n",
       "        39,  40,  41,  42,  43,  44,  45,  46,  47,  48,  49,  50,  51,\n",
       "        52,  53,  54,  55,  56,  57,  58,  59,  60,  61,  62,  63,  64,\n",
       "        65,  66,  67,  68,  69,  70,  71,  72,  73,  74,  75,  76,  77,\n",
       "        78,  79,  80,  81,  82,  83,  84,  85,  86,  87,  88,  89,  90,\n",
       "        91,  92,  93,  94,  95,  96,  97,  98,  99, 100, 101, 102, 103,\n",
       "       104, 105, 106, 107, 108, 109, 110, 111, 112, 113, 114, 115, 116,\n",
       "       117, 118, 119, 120, 121, 122, 123, 124, 125, 126, 127, 128, 129,\n",
       "       130, 131, 132, 133, 134, 135, 136, 137, 138, 139, 140, 141, 142,\n",
       "       143, 144, 145, 146, 147, 148, 149, 150, 151, 152, 153, 154, 155,\n",
       "       156, 157, 158, 159, 160, 161, 162, 163, 164, 165, 166, 167, 168,\n",
       "       169, 170, 171, 172, 173, 174, 175, 176, 177, 178, 179, 180, 181,\n",
       "       182, 183, 184, 185, 186, 187, 188, 189, 190, 191, 192, 193, 194,\n",
       "       195, 196, 197, 198, 199, 200, 201, 202, 203, 204, 205, 206, 207,\n",
       "       208, 209, 210, 211, 212, 213, 214, 215, 216, 217, 218, 219, 220,\n",
       "       221, 222, 223, 224, 225, 226, 227, 228, 229, 230, 231, 232, 233,\n",
       "       234, 235, 236, 237, 238, 239, 240, 241, 242, 243, 244, 245, 246,\n",
       "       247, 248, 249, 250, 251, 252, 253, 254, 255, 256, 257, 258, 259,\n",
       "       260, 261, 262, 263, 264, 265, 266, 267, 268, 269, 270, 271, 272,\n",
       "       273, 274, 275, 276, 277, 278, 279, 280, 281, 282, 283, 284, 285,\n",
       "       286, 287, 288, 289, 290, 291, 292, 293, 294, 295, 296, 297, 298,\n",
       "       299, 300, 301, 302, 303, 304, 305, 306, 307, 308, 309, 310, 311,\n",
       "       312, 313, 314, 315, 316, 317, 318, 319, 320, 321, 322, 323, 324,\n",
       "       325, 326, 327, 328, 329, 330, 331, 332, 333, 334, 335, 336, 337,\n",
       "       338, 339, 340, 341, 342, 343, 344, 345, 346, 347, 348, 349, 350,\n",
       "       351, 352, 353, 354, 355, 356, 357, 358, 359, 360, 361, 362, 363,\n",
       "       364, 365, 366, 367, 368, 369, 370, 371, 372, 373, 374, 375, 376,\n",
       "       377, 378, 379, 380, 381, 382, 383, 384, 385, 386, 387, 388, 389,\n",
       "       390, 391, 392, 393, 394, 395, 396, 397, 398, 399, 400, 401, 402,\n",
       "       403, 404, 405, 406, 407, 408, 409, 410, 411, 412, 413, 414, 415,\n",
       "       416, 417, 418, 419, 420, 421, 422, 423, 424, 425, 426, 427, 428,\n",
       "       429, 430, 431, 432, 433, 434, 435, 436, 437, 438, 439, 440, 441,\n",
       "       442, 443, 444, 445, 446, 447, 448, 449, 450, 451, 452, 453, 454,\n",
       "       455, 456, 457, 458, 459, 460, 461, 462, 463, 464, 465, 466, 467,\n",
       "       468, 469, 470, 471, 472, 473, 474, 475, 476, 477, 478, 479, 480,\n",
       "       481, 482, 483, 484, 485, 486, 487, 488, 489, 490, 491, 492, 493,\n",
       "       494, 495, 496, 497, 498, 499, 500, 501, 502, 503, 504, 505, 506,\n",
       "       507, 508, 509, 510, 511, 512, 513, 514, 515, 516, 517, 518, 519,\n",
       "       520, 521, 522, 523, 524, 525, 526, 527, 528, 529, 530, 531, 532,\n",
       "       533, 534, 535, 536, 537, 538, 539, 540, 541, 542, 543, 544, 545,\n",
       "       546, 547, 548, 549, 550, 551, 552, 553, 554, 555, 556, 557, 558,\n",
       "       559, 560, 561, 562, 563, 564, 565, 566, 567, 568, 569, 570, 571,\n",
       "       572, 573, 574, 575, 576, 577, 578, 579, 580, 581, 582, 583, 584,\n",
       "       585, 586, 587, 588, 589, 590, 591, 592, 593, 594, 595, 596, 597,\n",
       "       598, 599])\n",
       " t_events: None\n",
       "        y: array([[ 22.        ,  24.23317049,  26.404412  ,  28.51544193,\n",
       "         30.56792992,  32.56349924,  34.50372879,  36.39015339,\n",
       "         38.22426501,  40.00751414,  41.74131098,  43.42702667,\n",
       "         45.06599438,  46.65951046,  48.20883541,  49.7151949 ,\n",
       "         51.17978072,  52.60375166,  53.98823444,  55.33432449,\n",
       "         56.64308684,  57.91555688,  59.15274116,  60.35561814,\n",
       "         61.52513898,  62.66222828,  63.7677848 ,  64.84268226,\n",
       "         65.88777008,  66.90387413,  67.89179753,  68.85232143,\n",
       "         69.78620584,  70.69419046,  71.57699556,  72.43532284,\n",
       "         73.26982616,  74.08115796,  74.86998101,  75.63693434,\n",
       "         76.38263456,  77.10767714,  77.81263757,  78.49807247,\n",
       "         79.16452065,  79.81250408,  80.44252879,  81.05508574,\n",
       "         81.65065163,  82.22968961,  82.79264998,  83.33997081,\n",
       "         83.87207855,  84.38938852,  84.89230542,  85.38122379,\n",
       "         85.85652838,  86.31859452,  86.76778847,  87.20446765,\n",
       "         87.62898096,  88.04166896,  88.44286408,  88.83289079,\n",
       "         89.21206574,  89.58069786,  89.93908849,  90.28753146,\n",
       "         90.62631312,  90.95571242,  91.27600094,  91.58744293,\n",
       "         91.89029531,  92.18480769,  92.47122238,  92.74977442,\n",
       "         93.02069156,  93.28419431,  93.5404959 ,  93.78980237,\n",
       "         94.03231257,  94.2682182 ,  94.49770388,  94.72094724,\n",
       "         94.93811898,  95.14938301,  95.35489657,  95.55481039,\n",
       "         95.74926887,  95.93841031,  96.12236713,  96.30126616,\n",
       "         96.47522897,  96.64437215,  96.8088078 ,  96.96864384,\n",
       "         97.12398458,  97.2749312 ,  97.42158227,  97.56403445,\n",
       "         97.70238307,  97.83672292,  97.96714896,  98.09375722,\n",
       "         98.21664563,  98.33591501,  98.4516701 ,  98.56402061,\n",
       "         98.67308241,  98.77897874,  98.8818415 ,  98.98181267,\n",
       "         99.0790457 ,  99.17370708,  99.26597794,  99.35605575,\n",
       "         99.4440058 ,  99.52953607,  99.6126911 ,  99.6935396 ,\n",
       "         99.77214763,  99.84857879,  99.92289434,  99.99515335,\n",
       "        100.06541283, 100.13372784, 100.20015164, 100.26473578,\n",
       "        100.3275302 , 100.38858334, 100.4479422 , 100.50565247,\n",
       "        100.56175855, 100.61630367, 100.66932992, 100.72087835,\n",
       "        100.77098896, 100.8197008 , 100.86705202, 100.91307986,\n",
       "        100.95782074, 101.00131023, 101.04358316, 101.08467354,\n",
       "        101.12461469, 101.16343915, 101.20117877, 101.2378647 ,\n",
       "        101.27352737, 101.30819654, 101.34190126, 101.3746699 ,\n",
       "        101.40653016, 101.43750902, 101.46763277, 101.49692704,\n",
       "        101.52541671, 101.55312597, 101.58007832, 101.60629651,\n",
       "        101.63180257, 101.65661782, 101.68076283, 101.70425743,\n",
       "        101.72712072, 101.74937103, 101.77102599, 101.79210245,\n",
       "        101.81261654, 101.83258365, 101.85201845, 101.87093488,\n",
       "        101.88934621, 101.907265  , 101.92470315, 101.94167192,\n",
       "        101.95818196, 101.97424332, 101.98986553, 102.00505758,\n",
       "        102.01982802, 102.03418497, 102.04813619, 102.06168914,\n",
       "        102.07485105, 102.08762897, 102.10002987, 102.11206071,\n",
       "        102.12372853, 102.13504056, 102.1460043 , 102.15662766,\n",
       "        102.16691903, 102.17688747, 102.18654279, 102.1958957 ,\n",
       "        102.20495798, 102.21374264, 102.22226405, 102.23053815,\n",
       "        102.23858261, 102.24641705, 102.25406324, 102.26154527,\n",
       "        102.26888983, 102.27608763, 102.28308331, 102.28988236,\n",
       "        102.29649141, 102.30291674, 102.30916424, 102.31523947,\n",
       "        102.32114768, 102.32689383, 102.33248261, 102.33791845,\n",
       "        102.34320558, 102.34834798, 102.35334949, 102.35821373,\n",
       "        102.3629442 , 102.36754421, 102.37201699, 102.37636563,\n",
       "        102.38059311, 102.38470233, 102.38869609, 102.39257715,\n",
       "        102.39634816, 102.40001175, 102.40357048, 102.40702688,\n",
       "        102.41038344, 102.41364262, 102.41680685, 102.41987853,\n",
       "        102.42286005, 102.42575379, 102.42856209, 102.43128731,\n",
       "        102.43393177, 102.43649779, 102.43898769, 102.44140375,\n",
       "        102.44374828, 102.44602354, 102.4482318 , 102.45037529,\n",
       "        102.45245625, 102.45447689, 102.45643938, 102.45834591,\n",
       "        102.46019859, 102.46199954, 102.46375082, 102.46545447,\n",
       "        102.46711248, 102.4687268 , 102.47029933, 102.47183192,\n",
       "        102.47332636, 102.4747844 , 102.4762077 , 102.47759787,\n",
       "        102.47895645, 102.48028492, 102.48158465, 102.48285697,\n",
       "        102.48410309, 102.48532418, 102.48652129, 102.48769539,\n",
       "        102.48884736, 102.489978  , 102.49108799, 102.49217794,\n",
       "        102.49324836, 102.49429966, 102.49533215, 102.49634607,\n",
       "        102.49734154, 102.49831862, 102.49927724, 102.50021729,\n",
       "        102.50113855, 102.50204073, 102.50292346, 102.50378633,\n",
       "        102.50462884, 102.50545043, 102.50625053, 102.50702849,\n",
       "        102.50778366, 102.50851535, 102.50922287, 102.50990553,\n",
       "        102.51056265, 102.51119358, 102.51179772, 102.51237452,\n",
       "        102.51292349, 102.51344424, 102.5139365 , 102.51440011,\n",
       "        102.51483506, 102.51524151, 102.51561981, 102.51597052,\n",
       "        102.51629445, 102.51659266, 102.51686652, 102.5171177 ,\n",
       "        102.51734823, 102.51756052, 102.51775738, 102.51794209,\n",
       "        102.5181184 , 102.51829056, 102.5184634 , 102.51864234,\n",
       "        102.51883341, 102.51904335, 102.5192796 , 102.51953433,\n",
       "        102.51977831, 102.52001177, 102.52023588, 102.5204517 ,\n",
       "        102.52066016, 102.52086207, 102.52105816, 102.52124905,\n",
       "        102.5214353 , 102.52161734, 102.52179556, 102.52197029,\n",
       "        102.52214175, 102.52231015, 102.52247562, 102.52263825,\n",
       "        102.52279809, 102.52295514, 102.52310938, 102.52326076,\n",
       "        102.52340918, 102.52355455, 102.52369675, 102.52383564,\n",
       "        102.52397106, 102.52410287, 102.52423089, 102.52435497,\n",
       "        102.52447493, 102.52459061, 102.52470185, 102.5248085 ,\n",
       "        102.5249104 , 102.52500742, 102.52509943, 102.52518633,\n",
       "        102.52526801, 102.52534438, 102.52541538, 102.52548095,\n",
       "        102.52554107, 102.52559572, 102.5256449 , 102.52568864,\n",
       "        102.52572697, 102.52575996, 102.5257877 , 102.52581028,\n",
       "        102.52582782, 102.52584048, 102.5258484 , 102.52585177,\n",
       "        102.52585079, 102.52584567, 102.52583664, 102.52582395,\n",
       "        102.52580786, 102.52578867, 102.52576664, 102.5257421 ,\n",
       "        102.52571536, 102.52568675, 102.5256566 , 102.52562527,\n",
       "        102.5255931 , 102.52556046, 102.52552771, 102.52549521,\n",
       "        102.52546334, 102.52543247, 102.52540298, 102.52537522,\n",
       "        102.52534956, 102.52532637, 102.525306  , 102.5252888 ,\n",
       "        102.5252751 , 102.52526524, 102.52525953, 102.52525828,\n",
       "        102.52526178, 102.52527031, 102.52528411, 102.52530344,\n",
       "        102.52532852, 102.52535954, 102.52539668, 102.52544011,\n",
       "        102.52548996, 102.52554634, 102.52560933, 102.52567899,\n",
       "        102.52575535, 102.52583842, 102.52592818, 102.52602456,\n",
       "        102.52612749, 102.52623685, 102.5263525 , 102.52647427,\n",
       "        102.52660196, 102.52673533, 102.52687411, 102.52701802,\n",
       "        102.52716673, 102.52731988, 102.52747709, 102.52763795,\n",
       "        102.52780203, 102.52796885, 102.52813792, 102.52830873,\n",
       "        102.52848073, 102.52865337, 102.52882607, 102.52899821,\n",
       "        102.52916919, 102.52933837, 102.52950511, 102.52966875,\n",
       "        102.52982863, 102.52998407, 102.53013442, 102.530279  ,\n",
       "        102.53041714, 102.53054819, 102.53067151, 102.53078645,\n",
       "        102.53089241, 102.5309888 , 102.53107505, 102.53115064,\n",
       "        102.53121507, 102.53126789, 102.5313087 , 102.53133715,\n",
       "        102.53135295, 102.53135586, 102.53134573, 102.53132248,\n",
       "        102.53128611, 102.53123672, 102.53117449, 102.53109973,\n",
       "        102.53101285, 102.53091436, 102.53080494, 102.53068537,\n",
       "        102.53055661, 102.53041974, 102.53027603, 102.53012691,\n",
       "        102.52997401, 102.52981912, 102.52966428, 102.52951172,\n",
       "        102.52936388, 102.52922347, 102.52909342, 102.52897696,\n",
       "        102.52887754, 102.52879894, 102.52874522, 102.52872075,\n",
       "        102.52871604, 102.52871166, 102.52870741, 102.52870328,\n",
       "        102.52869926, 102.52869535, 102.52869155, 102.52868785,\n",
       "        102.52868425, 102.52868076, 102.52867736, 102.52867405,\n",
       "        102.52867084, 102.52866771, 102.52866467, 102.52866171,\n",
       "        102.52865884, 102.52865604, 102.52865332, 102.52865068,\n",
       "        102.52864811, 102.52864562, 102.52864319, 102.52864084,\n",
       "        102.52863855, 102.52863632, 102.52863416, 102.52863206,\n",
       "        102.52863002, 102.52862804, 102.52862612, 102.52862426,\n",
       "        102.52862244, 102.52862068, 102.52861897, 102.52861731,\n",
       "        102.5286157 , 102.52861414, 102.52861262, 102.52861114,\n",
       "        102.52860971, 102.52860832, 102.52860697, 102.52860565,\n",
       "        102.52860438, 102.52860314, 102.52860193, 102.52860076,\n",
       "        102.52859962, 102.52859851, 102.52859742, 102.52859637,\n",
       "        102.52859535, 102.52859435, 102.52859338, 102.52859243,\n",
       "        102.5285915 , 102.5285906 , 102.52858971, 102.52858885,\n",
       "        102.52858801, 102.52858719, 102.52858638, 102.52858559,\n",
       "        102.52858482, 102.52858407, 102.52858333, 102.52858261,\n",
       "        102.5285819 , 102.52858121, 102.52858053, 102.52857987,\n",
       "        102.52857922, 102.52857859, 102.52857797, 102.52857736,\n",
       "        102.52857676, 102.52857619, 102.52857562, 102.52857507,\n",
       "        102.52857453, 102.52857401, 102.5285735 , 102.528573  ,\n",
       "        102.52857252, 102.52857206, 102.52857161, 102.52857118,\n",
       "        102.52857076, 102.52857036, 102.52856998, 102.52856961,\n",
       "        102.52856926, 102.52856892, 102.5285686 , 102.5285683 ,\n",
       "        102.52856801, 102.52856774, 102.52856748, 102.52856724,\n",
       "        102.52856701, 102.5285668 , 102.5285666 , 102.52856641,\n",
       "        102.52856623, 102.52856606, 102.52856589, 102.52856573,\n",
       "        102.52856557, 102.52856541, 102.52856524, 102.52856507]])\n",
       " y_events: None"
      ]
     },
     "execution_count": 22,
     "metadata": {},
     "output_type": "execute_result"
    }
   ],
   "source": [
    "t_lims = (0, 600)\n",
    "tspan = np.arange(t_lims[0], t_lims[1], 1)\n",
    "x0 = np.array([22])\n",
    "wr = np.array([100])\n",
    "uf = lambda x: -K @ (x - wr)\n",
    "\n",
    "t_log = []\n",
    "u_log = []\n",
    "# x = integrate.odeint(heatMass, x0, tspan, args=(properties, uf))\n",
    "x = integrate.solve_ivp(heatMass, t_lims, x0, method=\"DOP853\", args=(properties, uf), t_eval=tspan)\n",
    "x"
   ]
  },
  {
   "cell_type": "code",
   "execution_count": 23,
   "metadata": {},
   "outputs": [
    {
     "data": {
      "image/png": "[encoded data removed]",
      "text/plain": [
       "<Figure size 432x288 with 1 Axes>"
      ]
     },
     "metadata": {
      "needs_background": "light"
     },
     "output_type": "display_data"
    }
   ],
   "source": [
    "plt.plot(x.t, x.y[0], linewidth=2, label='T')\n",
    "plt.xlabel('Time')\n",
    "plt.ylabel('State')\n",
    "\n",
    "plt.legend()\n",
    "plt.show()"
   ]
  },
  {
   "cell_type": "code",
   "execution_count": 24,
   "metadata": {},
   "outputs": [
    {
     "data": {
      "image/png": "[encoded data removed]",
      "text/plain": [
       "<Figure size 432x288 with 1 Axes>"
      ]
     },
     "metadata": {
      "needs_background": "light"
     },
     "output_type": "display_data"
    }
   ],
   "source": [
    "plt.scatter(t_log, u_log, linewidth=2, label='u')\n",
    "plt.xlabel('Time')\n",
    "plt.ylabel('Heat')\n",
    "\n",
    "plt.legend()\n",
    "plt.show()"
   ]
  },
  {
   "cell_type": "code",
   "execution_count": null,
   "metadata": {},
   "outputs": [],
   "source": []
  },
  {
   "cell_type": "code",
   "execution_count": null,
   "metadata": {},
   "outputs": [],
   "source": []
  }
 ],
 "metadata": {
  "kernelspec": {
   "display_name": "local-venv",
   "language": "python",
   "name": "local-venv"
  },
  "language_info": {
   "codemirror_mode": {
    "name": "ipython",
    "version": 3
   },
   "file_extension": ".py",
   "mimetype": "text/x-python",
   "name": "python",
   "nbconvert_exporter": "python",
   "pygments_lexer": "ipython3",
   "version": "3.6.9"
  }
 },
 "nbformat": 4,
 "nbformat_minor": 2
}
