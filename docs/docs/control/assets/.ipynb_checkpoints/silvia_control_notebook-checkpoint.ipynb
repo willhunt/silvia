{
 "cells": [
  {
   "cell_type": "markdown",
   "metadata": {},
   "source": [
    "# Silvia Control\n",
    "Evaluation od espresso machine control theory based upon [Control Bootcamp](https://www.youtube.com/playlist?list=PLMrJAkhIeNNR20Mz-VpzgfQs5zrYi085m) by Steve Brunton."
   ]
  },
  {
   "cell_type": "markdown",
   "metadata": {},
   "source": [
    "## Boundary DIagram\n",
    "<img src=\"boiler_boundary_diagram.png\" width=\"400\" />\n"
   ]
  },
  {
   "cell_type": "markdown",
   "metadata": {},
   "source": [
    "## System Dynamics\n",
    "\n",
    "### Differential equations\n",
    "The change of internal energy $\\frac{dU}{dt}$ of an incompresssible substance is as follows where $c$ is the specific heat.\n",
    "\n",
    "$$ \\frac{dU}{dt} = m . c $$\n",
    "\n",
    "Heat transfer $Q$ is:\n",
    "\n",
    "$$ Q = \\int_{0}^{\\Delta{}T} \\dot{Q} dt $$\n",
    "\n",
    "The heat rate required to increase the boiler temperture is:  \n",
    "\n",
    "$$ \\dot{Q}_{net} = c . m . \\frac{dT_{boiler}}{dt} $$\n",
    "\n",
    "The convection gain, $\\dot{Q}_{conv}$  is:\n",
    "\n",
    "$$ \\dot{Q}_{conv} = h_{conv} . A . (T_{amb} - T_{boiler}) $$\n",
    "\n",
    "The net heat input to the boiler, $\\dot{Q}_{net}$ is:\n",
    "\n",
    "$$ \\dot{Q}_{net} = \\dot{Q}_{heat} + \\dot{Q}_{conv} $$ \n",
    "\n",
    "So differetial temperature equation is:\n",
    "$$ \\frac{dT_{boiler}}{dt} = \\frac{u}{cm} + \\frac{hA}{cm}(T_{amb} - T_{boiler}) $$\n",
    "\n",
    "### Finite time equations\n",
    "\n",
    "The heat required to increase the boiler temperture is:  \n",
    "\n",
    "$$ Q_{net} = c . m . (T_{boiler}^{(1)} - T_{boiler}^{(0)}) . \\Delta{}t $$\n",
    "\n",
    "The temperture of the boiler, $T_{boiler}$ after heating is therefore:\n",
    "$$ T_{boiler}^{(1)} = \\frac{ (\\dot{Q}_{heat} + \\dot{Q}_{conv}) . \\Delta{}t }{ c . m } + T_{boiler}^{(0)} $$\n",
    "\n",
    "$$ \\Delta{}T_{boiler} = \\frac{ (\\dot{Q}_{heat} + h_{conv} . A . (T_{amb} - T_{boiler})) . \\Delta{}t }{ c . m } $$\n",
    "\n",
    "### Notes\n",
    "The heat input $\\dot{Q}_{heat}$ to the system equals the electrical power $P_{heat}$ of the element:  \n",
    "$$ \\dot{Q}_{heat} = P_{heat} $$"
   ]
  },
  {
   "cell_type": "markdown",
   "metadata": {},
   "source": [
    "### State\n",
    "$$ \\vec{x} = \\begin{bmatrix} x_0 \\end{bmatrix} = \\begin{bmatrix} T \\end{bmatrix} $$"
   ]
  },
  {
   "cell_type": "markdown",
   "metadata": {},
   "source": [
    "### Control\n",
    "Looking at the equations  on the form:\n",
    "$$ \\dot{x} = Ax + Bu $$\n",
    "\n",
    "To account for the constant term, define new variable $z$:\n",
    "$$ z = x + \\alpha $$\n",
    "where:\n",
    "$$ \\alpha = \\frac{hA}{cm}T_{amb} $$\n",
    "\n",
    "The A matrix defines the system:\n",
    "$$ A = \\begin{bmatrix} \\frac{hA}{cm} \\end{bmatrix} $$\n",
    "\n",
    "The B matrix is the control:\n",
    "$$ B = \\begin{bmatrix} \\frac{1}{cm} \\end{bmatrix} $$\n",
    "\n",
    "Total, equation:\n",
    "$$ \\dot{x} = -\\frac{hA}{cm}T + \\frac{1}{cm}u + \\frac{hA}{cm}T_{amb} $$ \n",
    "$$ \\dot{z} = \\begin{bmatrix} -\\frac{hA}{cm} \\end{bmatrix} z + \\begin{bmatrix} \\frac{1}{cm} \\end{bmatrix} u $$"
   ]
  },
  {
   "cell_type": "markdown",
   "metadata": {},
   "source": [
    "## System Properties\n",
    "\n",
    "|Property |Quantity |Reference |\n",
    "|:-        |:-        |:-         |\n",
    "|Boiler Mass |- $kg$ |\n",
    "|Boiler Specific Heat Capacity |375 $\\frac{J}{kg.K}$ |[Engineering Toolbox](https://www.engineeringtoolbox.com/specific-heat-capacity-d_391.html) |\n",
    "|Water Mass |- $kg$ |\n",
    "|Water Specific Heat Capacity |4182 $\\frac{J}{kg.K}$ |[Engineering Toolbox](https://www.engineeringtoolbox.com/specific-heat-capacity-d_391.html) |\n",
    "| Natural Convection Coefficient | 10 $\\frac{W}{m^2.K}$ |"
   ]
  },
  {
   "cell_type": "code",
   "execution_count": 359,
   "metadata": {},
   "outputs": [],
   "source": [
    "import sympy as sp\n",
    "from sympy.utilities.lambdify import lambdify\n",
    "import numpy as np\n",
    "import matplotlib.pyplot as plt\n",
    "import control.matlab as ctrlm\n",
    "import control as ctrl\n",
    "from control import place\n",
    "import slycot\n",
    "from scipy import integrate\n",
    "\n",
    "# State\n",
    "T, dT = sp.symbols(\"T \\dot{T}\")\n",
    "# Properties\n",
    "m, c, h, T_amb, a = sp.symbols(\"m, c, h, T_amb, a\")\n",
    "# Control\n",
    "u = sp.symbols(\"u\")"
   ]
  },
  {
   "cell_type": "markdown",
   "metadata": {},
   "source": [
    "## Define System Matricies\n",
    "Define function for the temperature rate"
   ]
  },
  {
   "cell_type": "code",
   "execution_count": 360,
   "metadata": {},
   "outputs": [
    {
     "data": {
      "text/latex": [
       "$\\displaystyle \\left[\\begin{matrix}- \\frac{a h}{c m}\\end{matrix}\\right]$"
      ],
      "text/plain": [
       "Matrix([[-a*h/(c*m)]])"
      ]
     },
     "execution_count": 360,
     "metadata": {},
     "output_type": "execute_result"
    }
   ],
   "source": [
    "z = sp.Matrix([T - h * a * T_amb / (c * m) ])\n",
    "u = sp.Matrix([u])\n",
    "A = sp.Matrix([-h * a / (c * m)])\n",
    "B = sp.Matrix([1 / (c * m)])\n",
    "A"
   ]
  },
  {
   "cell_type": "code",
   "execution_count": 361,
   "metadata": {},
   "outputs": [
    {
     "data": {
      "text/latex": [
       "$\\displaystyle \\dot{T} = \\left[\\begin{matrix}- \\frac{a h \\left(T - \\frac{T_{amb} a h}{c m}\\right)}{c m} + \\frac{u}{c m}\\end{matrix}\\right]$"
      ],
      "text/plain": [
       "Eq(\\dot{T}, Matrix([[-a*h*(T - T_amb*a*h/(c*m))/(c*m) + u/(c*m)]]))"
      ]
     },
     "execution_count": 361,
     "metadata": {},
     "output_type": "execute_result"
    }
   ],
   "source": [
    "T_rate = A*z + B*u\n",
    "sp.Eq(dT, T_rate, evaluate=False)"
   ]
  },
  {
   "cell_type": "code",
   "execution_count": 362,
   "metadata": {},
   "outputs": [
    {
     "data": {
      "text/plain": [
       "0.027475000000000003"
      ]
     },
     "execution_count": 362,
     "metadata": {},
     "output_type": "execute_result"
    }
   ],
   "source": [
    "r = 0.035\n",
    "l = 0.09\n",
    "area = 2 * 3.14 * r**2 + 2 * 3.14 * r * l\n",
    "\n",
    "properties = {\n",
    "    'm': 3,\n",
    "    'c': 375,\n",
    "    'h': 10,\n",
    "    'T_amb': 20,\n",
    "    'a': area\n",
    "}\n",
    "area"
   ]
  },
  {
   "cell_type": "markdown",
   "metadata": {},
   "source": [
    "## State space representation"
   ]
  },
  {
   "cell_type": "code",
   "execution_count": 363,
   "metadata": {},
   "outputs": [
    {
     "data": {
      "text/plain": [
       "(array([[-0.000244222222222222]], dtype=object),\n",
       " array([[1/1125]], dtype=object))"
      ]
     },
     "execution_count": 363,
     "metadata": {},
     "output_type": "execute_result"
    }
   ],
   "source": [
    "# Redefine matricies in numpy form\n",
    "A_np = np.array(A.subs(properties))\n",
    "B_np = np.array(B.subs(properties))\n",
    "C_np = np.array([1])\n",
    "D_np = np.zeros((1))\n",
    "A_np, B_np"
   ]
  },
  {
   "cell_type": "code",
   "execution_count": 364,
   "metadata": {},
   "outputs": [
    {
     "data": {
      "text/plain": [
       "A = [[-0.00024422]]\n",
       "\n",
       "B = [[0.00088889]]\n",
       "\n",
       "C = [[1.]]\n",
       "\n",
       "D = [[0.]]"
      ]
     },
     "execution_count": 364,
     "metadata": {},
     "output_type": "execute_result"
    }
   ],
   "source": [
    "ss_model = ctrl.ss(A_np, B_np, C_np, D_np)\n",
    "ss_model"
   ]
  },
  {
   "cell_type": "code",
   "execution_count": 365,
   "metadata": {},
   "outputs": [],
   "source": [
    "def convert_x_z(data, output, properties):\n",
    "    h = properties['h']\n",
    "    a = properties['a']\n",
    "    T_amb = properties['T_amb']\n",
    "    m = properties['m']\n",
    "    c = properties['c']\n",
    "    if output == \"x\":\n",
    "        return data + h * a * T_amb / (c * m)\n",
    "    else:\n",
    "        return data - h * a * T_amb / (c * m)"
   ]
  },
  {
   "cell_type": "markdown",
   "metadata": {},
   "source": [
    "## Design LQR Controller"
   ]
  },
  {
   "cell_type": "code",
   "execution_count": 366,
   "metadata": {},
   "outputs": [
    {
     "data": {
      "text/plain": [
       "matrix([[31.34922014]])"
      ]
     },
     "execution_count": 366,
     "metadata": {},
     "output_type": "execute_result"
    }
   ],
   "source": [
    "Q = np.eye(A.shape[0])\n",
    "R = 0.001\n",
    "K = ctrl.lqr(ss_model, Q, R)[0]\n",
    "K"
   ]
  },
  {
   "cell_type": "code",
   "execution_count": 367,
   "metadata": {},
   "outputs": [],
   "source": [
    "def heatMass(t, x, properties, uf):\n",
    "    dx = np.empty([1])\n",
    "    h = properties['h']\n",
    "    a = properties['a']\n",
    "    T_amb = properties['T_amb']\n",
    "    m = properties['m']\n",
    "    c = properties['c']\n",
    "    u = uf(x)\n",
    "    dx[0] = (u + h * a * (- x)) / (c * m)\n",
    "    t_log.append(t)\n",
    "    u_log.append(u.item(0))\n",
    "    return dx"
   ]
  },
  {
   "cell_type": "code",
   "execution_count": 368,
   "metadata": {},
   "outputs": [
    {
     "data": {
      "text/plain": [
       "'The solver successfully reached the end of the integration interval.'"
      ]
     },
     "execution_count": 368,
     "metadata": {},
     "output_type": "execute_result"
    }
   ],
   "source": [
    "t_lims = (0, 6000)\n",
    "tspan = np.arange(t_lims[0], t_lims[1], 1)\n",
    "z0 = np.array([convert_x_z(0, 'z', properties)])  # Start temperature\n",
    "wr = np.array([100])  # Target temperature\n",
    "# uf = lambda x: -K @ (x - wr)\n",
    "uf = lambda x: x * 0 + 100\n",
    "\n",
    "t_log = []\n",
    "u_log = []\n",
    "# x = integrate.odeint(heatMass, x0, tspan, args=(properties, uf))\n",
    "sol = integrate.solve_ivp(heatMass, t_lims, z0, method=\"DOP853\", args=(properties, uf), t_eval=tspan)\n",
    "sol.message"
   ]
  },
  {
   "cell_type": "code",
   "execution_count": 369,
   "metadata": {},
   "outputs": [
    {
     "data": {
      "text/plain": [
       "Text(0, 0.5, 'State')"
      ]
     },
     "execution_count": 369,
     "metadata": {},
     "output_type": "execute_result"
    },
    {
     "data": {
      "image/png": "[encoded data removed]",
      "text/plain": [
       "<Figure size 432x288 with 1 Axes>"
      ]
     },
     "metadata": {
      "needs_background": "light"
     },
     "output_type": "display_data"
    }
   ],
   "source": [
    "plt.plot(sol.t, convert_x_z(sol.y[0], \"x\", properties), linewidth=2, label='T')\n",
    "plt.scatter(t_log, u_log, linewidth=1, label='u', c=\"orange\")\n",
    "plt.legend()\n",
    "plt.xlabel('Time (s)')\n",
    "plt.ylabel('State')"
   ]
  },
  {
   "cell_type": "code",
   "execution_count": 370,
   "metadata": {},
   "outputs": [
    {
     "data": {
      "image/png": "[encoded data removed]",
      "text/plain": [
       "<Figure size 432x288 with 1 Axes>"
      ]
     },
     "metadata": {
      "needs_background": "light"
     },
     "output_type": "display_data"
    }
   ],
   "source": [
    "plt.scatter(t_log, u_log, linewidth=1, label='u')\n",
    "plt.xlabel('Time (s)')\n",
    "plt.ylabel('Heat')\n",
    "\n",
    "plt.legend()\n",
    "plt.show()"
   ]
  },
  {
   "cell_type": "markdown",
   "metadata": {},
   "source": [
    "## Simulate with control library"
   ]
  },
  {
   "cell_type": "code",
   "execution_count": 371,
   "metadata": {},
   "outputs": [
    {
     "data": {
      "text/plain": [
       "Text(0.5, 0, 'Time (s)')"
      ]
     },
     "execution_count": 371,
     "metadata": {},
     "output_type": "execute_result"
    },
    {
     "data": {
      "image/png": "[encoded data removed]",
      "text/plain": [
       "<Figure size 432x288 with 1 Axes>"
      ]
     },
     "metadata": {
      "needs_background": "light"
     },
     "output_type": "display_data"
    }
   ],
   "source": [
    "t_sample = 5\n",
    "t_sim = np.arange(0, 6000, t_sample)\n",
    "u_sim = t_sim * 0 + 100\n",
    "t_step, y_step, x_step = ctrl.forced_response(ss_model, T=t_sim, U=u_sim, X0=z0)\n",
    "plt.plot(t_step, convert_x_z(y_step, \"x\", properties), label='y')\n",
    "plt.plot(t_step, convert_x_z(x_step, \"x\", properties), label='x')\n",
    "plt.plot(t_step, u_sim, '--', label='u')\n",
    "plt.legend()\n",
    "plt.xlabel('Time (s)')"
   ]
  },
  {
   "cell_type": "markdown",
   "metadata": {},
   "source": [
    "# Compare to measures response"
   ]
  },
  {
   "cell_type": "code",
   "execution_count": 372,
   "metadata": {},
   "outputs": [
    {
     "data": {
      "text/plain": [
       "Text(0.5, 0, 'Duty [%], Temperature [degC]')"
      ]
     },
     "execution_count": 372,
     "metadata": {},
     "output_type": "execute_result"
    },
    {
     "data": {
      "image/png": "[encoded data removed]",
      "text/plain": [
       "<Figure size 432x288 with 1 Axes>"
      ]
     },
     "metadata": {
      "needs_background": "light"
     },
     "output_type": "display_data"
    }
   ],
   "source": [
    "import pickle\n",
    "\n",
    "with open('dataset_01.pickle', 'rb') as f:\n",
    "    measured_data = pickle.load(f)\n",
    "    \n",
    "power = 1100  # W\n",
    "\n",
    "plt.plot(measured_data[\"t\"], measured_data[\"y\"], label='y')\n",
    "plt.plot(measured_data[\"t\"], measured_data[\"u\"], label='u')\n",
    "plt.legend()\n",
    "plt.xlabel('Time (s)')\n",
    "plt.xlabel('Duty [%], Temperature [degC]')"
   ]
  },
  {
   "cell_type": "markdown",
   "metadata": {},
   "source": [
    "## Simulate using measured input"
   ]
  },
  {
   "cell_type": "code",
   "execution_count": 373,
   "metadata": {},
   "outputs": [
    {
     "data": {
      "text/plain": [
       "Text(0.5, 0, 'Time (s)')"
      ]
     },
     "execution_count": 373,
     "metadata": {},
     "output_type": "execute_result"
    },
    {
     "data": {
      "image/png": "[encoded data removed]",
      "text/plain": [
       "<Figure size 432x288 with 1 Axes>"
      ]
     },
     "metadata": {
      "needs_background": "light"
     },
     "output_type": "display_data"
    }
   ],
   "source": [
    "t_sim, y_sim, x_sim = ctrl.forced_response(\n",
    "    ss_model, T=measured_data[\"t\"], U=measured_data[\"u\"]*power/100, X0=measured_data[\"y\"][0]\n",
    ")\n",
    "plt.plot(measured_data[\"t\"], measured_data[\"y\"], label='y_measured')\n",
    "plt.plot(measured_data[\"t\"], measured_data[\"u\"], label='u')\n",
    "plt.plot(measured_data[\"t\"], convert_x_z(y_sim, \"x\", properties), label='y_simulated')\n",
    "plt.legend()\n",
    "plt.xlabel('Time (s)')"
   ]
  },
  {
   "cell_type": "markdown",
   "metadata": {},
   "source": [
    "Try changing the properties."
   ]
  },
  {
   "cell_type": "code",
   "execution_count": 382,
   "metadata": {},
   "outputs": [
    {
     "data": {
      "text/plain": [
       "Text(0.5, 0, 'Time (s)')"
      ]
     },
     "execution_count": 382,
     "metadata": {},
     "output_type": "execute_result"
    },
    {
     "data": {
      "image/png": "[encoded data removed]",
      "text/plain": [
       "<Figure size 432x288 with 1 Axes>"
      ]
     },
     "metadata": {
      "needs_background": "light"
     },
     "output_type": "display_data"
    }
   ],
   "source": [
    "properties = {\n",
    "    'm': 2,\n",
    "    'c': 50,\n",
    "    'h': 3,\n",
    "    'T_amb': 20,\n",
    "    'a': 0.03\n",
    "}\n",
    "A_np = np.array(A.subs(properties))\n",
    "B_np = np.array(B.subs(properties))\n",
    "ss_model = ctrl.ss(A_np, B_np, C_np, D_np)\n",
    "t_sim, y_sim, x_sim = ctrl.forced_response(\n",
    "    ss_model, T=measured_data[\"t\"], U=measured_data[\"u\"], X0=measured_data[\"y\"][0]\n",
    ")\n",
    "plt.plot(measured_data[\"t\"], measured_data[\"y\"], label='y_measured')\n",
    "plt.plot(measured_data[\"t\"], measured_data[\"u\"], label='u')\n",
    "plt.plot(measured_data[\"t\"], convert_x_z(y_sim, \"x\", properties), label='y_simulated')\n",
    "plt.legend()\n",
    "plt.xlabel('Time (s)')"
   ]
  },
  {
   "cell_type": "markdown",
   "metadata": {},
   "source": [
    "The delay in the response is not being modelled as the boiler is assumed to be at constant temperature."
   ]
  }
 ],
 "metadata": {
  "kernelspec": {
   "display_name": "local-venv",
   "language": "python",
   "name": "local-venv"
  },
  "language_info": {
   "codemirror_mode": {
    "name": "ipython",
    "version": 3
   },
   "file_extension": ".py",
   "mimetype": "text/x-python",
   "name": "python",
   "nbconvert_exporter": "python",
   "pygments_lexer": "ipython3",
   "version": "3.6.9"
  }
 },
 "nbformat": 4,
 "nbformat_minor": 2
}
