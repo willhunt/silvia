{
 "cells": [
  {
   "cell_type": "code",
   "execution_count": 12,
   "metadata": {},
   "outputs": [],
   "source": [
    "import numpy as np\n",
    "import json\n",
    "import matplotlib.pyplot as plt"
   ]
  },
  {
   "cell_type": "code",
   "execution_count": 10,
   "metadata": {},
   "outputs": [
    {
     "data": {
      "text/plain": [
       "[{'ts': '2020-08-25 10:55:02',\n",
       "  't': 0,\n",
       "  'duty': 100,\n",
       "  'T_boiler': 25.970787048339844},\n",
       " {'ts': '2020-08-25 10:55:03',\n",
       "  't': 1,\n",
       "  'duty': 100,\n",
       "  'T_boiler': 25.995746612548828},\n",
       " {'ts': '2020-08-25 10:55:11',\n",
       "  't': 9,\n",
       "  'duty': 0,\n",
       "  'T_boiler': 26.837848663330078}]"
      ]
     },
     "execution_count": 10,
     "metadata": {},
     "output_type": "execute_result"
    }
   ],
   "source": [
    "with open('response_1.json') as json_file:\n",
    "    data = json.load(json_file)\n",
    "n_points = len(data)\n",
    "data[0:3]"
   ]
  },
  {
   "cell_type": "code",
   "execution_count": 15,
   "metadata": {},
   "outputs": [
    {
     "data": {
      "text/plain": [
       "[<matplotlib.lines.Line2D at 0x7f38ebee6ac8>]"
      ]
     },
     "execution_count": 15,
     "metadata": {},
     "output_type": "execute_result"
    },
    {
     "data": {
      "image/png": "[encoded data removed]",
      "text/plain": [
       "<Figure size 432x288 with 1 Axes>"
      ]
     },
     "metadata": {
      "needs_background": "light"
     },
     "output_type": "display_data"
    }
   ],
   "source": [
    "data_array = np.zeros((n_points, 3))\n",
    "\n",
    "for index, item in enumerate(data):\n",
    "    data_array[index, 0] = item[\"t\"]\n",
    "    data_array[index, 1] = item[\"duty\"]\n",
    "    data_array[index, 2] = item[\"T_boiler\"]\n",
    "# data_array\n",
    "plt.plot(data_array[:,0], data_array[:,1])\n",
    "plt.plot(data_array[:,0], data_array[:,2])"
   ]
  }
 ],
 "metadata": {
  "kernelspec": {
   "display_name": "local-venv",
   "language": "python",
   "name": "local-venv"
  },
  "language_info": {
   "codemirror_mode": {
    "name": "ipython",
    "version": 3
   },
   "file_extension": ".py",
   "mimetype": "text/x-python",
   "name": "python",
   "nbconvert_exporter": "python",
   "pygments_lexer": "ipython3",
   "version": "3.6.9"
  }
 },
 "nbformat": 4,
 "nbformat_minor": 2
}
